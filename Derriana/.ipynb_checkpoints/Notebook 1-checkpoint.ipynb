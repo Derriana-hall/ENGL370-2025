{
 "cells": [
  {
   "cell_type": "markdown",
   "id": "924dc1fc-b21d-413a-b7fe-45166cec62fa",
   "metadata": {},
   "source": [
    "# Derriana Hall"
   ]
  },
  {
   "cell_type": "markdown",
   "id": "8fb82d8f-50a0-40c2-adda-6c95b760600f",
   "metadata": {},
   "source": [
    "## I am from Atlanta, Georgia. I took this class because I want to stay in tune with my major (information systems)"
   ]
  },
  {
   "cell_type": "markdown",
   "id": "d9b44d3d-f54d-494b-9700-936b43265634",
   "metadata": {},
   "source": []
  }
 ],
 "metadata": {
  "kernelspec": {
   "display_name": "Python 3 (ipykernel)",
   "language": "python",
   "name": "python3"
  },
  "language_info": {
   "codemirror_mode": {
    "name": "ipython",
    "version": 3
   },
   "file_extension": ".py",
   "mimetype": "text/x-python",
   "name": "python",
   "nbconvert_exporter": "python",
   "pygments_lexer": "ipython3",
   "version": "3.12.8"
  }
 },
 "nbformat": 4,
 "nbformat_minor": 5
}
