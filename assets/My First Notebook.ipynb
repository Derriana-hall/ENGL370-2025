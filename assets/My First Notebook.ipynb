{
 "cells": [
  {
   "cell_type": "markdown",
   "id": "7096122c-38af-4b22-8ae4-aeb31320d79c",
   "metadata": {},
   "source": [
    "# John Laudun\n",
    "\n",
    "Tell me something about you and why you are in this class.\n",
    "\n",
    "I can add things."
   ]
  },
  {
   "cell_type": "markdown",
   "id": "5b926cf0-2de3-4b87-be54-bbf8f66557af",
   "metadata": {},
   "source": [
    "For this first bit of code, I want to load a file and check to see that it loaded. After that, I am going to break the string into a list of words so I can count the words, and then later derive a word frquency list."
   ]
  },
  {
   "cell_type": "code",
   "execution_count": 6,
   "id": "801b3bc0-fd3f-4fd1-ae50-44344fcb9c3a",
   "metadata": {},
   "outputs": [
    {
     "name": "stdout",
     "output_type": "stream",
     "text": [
      "<class 'str'>\n",
      "It was the best of times, it was the worst of times, it was the age of wisdom, it was the age of foolishness, it was the epoch of belief, it was the epoch of incredulity, it was the season of light, it was the season of darkness, it was the spring of hope, it was the winter of despair.\n"
     ]
    }
   ],
   "source": [
    "# First open a file\n",
    "dickens = open(\"Dickens.txt\", \"r\").read()\n",
    "\n",
    "# Then check my work\n",
    "print(type(dickens))\n",
    "print(dickens)"
   ]
  },
  {
   "cell_type": "code",
   "execution_count": 19,
   "id": "bcd2715c-94a0-4c26-8671-b5aae71d9b15",
   "metadata": {},
   "outputs": [
    {
     "data": {
      "text/plain": [
       "286"
      ]
     },
     "execution_count": 19,
     "metadata": {},
     "output_type": "execute_result"
    }
   ],
   "source": [
    "# Let's see how long the string is (in characters):\n",
    "len(dickens)"
   ]
  },
  {
   "cell_type": "code",
   "execution_count": 17,
   "id": "5825a0d9-fb74-4e69-9d23-ae651a151c8f",
   "metadata": {},
   "outputs": [
    {
     "name": "stdout",
     "output_type": "stream",
     "text": [
      "<class 'list'>\n",
      "60\n",
      "['it', 'was', 'the', 'best', 'of', 'times,', 'it', 'was', 'the', 'worst', 'of', 'times,', 'it', 'was', 'the', 'age', 'of', 'wisdom,', 'it', 'was', 'the', 'age', 'of', 'foolishness,', 'it', 'was', 'the', 'epoch', 'of', 'belief,', 'it', 'was', 'the', 'epoch', 'of', 'incredulity,', 'it', 'was', 'the', 'season', 'of', 'light,', 'it', 'was', 'the', 'season', 'of', 'darkness,', 'it', 'was', 'the', 'spring', 'of', 'hope,', 'it', 'was', 'the', 'winter', 'of', 'despair.']\n"
     ]
    }
   ],
   "source": [
    "words = dickens.lower().split(\" \")\n",
    "print(type(words))\n",
    "print(len(words))\n",
    "print(words)"
   ]
  },
  {
   "cell_type": "code",
   "execution_count": 18,
   "id": "82c4d1fc-30a0-43cc-81b0-afc6c2fe00ee",
   "metadata": {},
   "outputs": [
    {
     "name": "stdout",
     "output_type": "stream",
     "text": [
      "it\n",
      "it\n"
     ]
    },
    {
     "data": {
      "text/plain": [
       "True"
      ]
     },
     "execution_count": 18,
     "metadata": {},
     "output_type": "execute_result"
    }
   ],
   "source": [
    "print(words[0])\n",
    "\n",
    "print(words[6])\n",
    "\n",
    "words[0] == words[6]"
   ]
  },
  {
   "cell_type": "code",
   "execution_count": null,
   "id": "5b83242e-f9f3-42e2-8214-f15846a262e2",
   "metadata": {},
   "outputs": [],
   "source": []
  }
 ],
 "metadata": {
  "kernelspec": {
   "display_name": "Python 3 (ipykernel)",
   "language": "python",
   "name": "python3"
  },
  "language_info": {
   "codemirror_mode": {
    "name": "ipython",
    "version": 3
   },
   "file_extension": ".py",
   "mimetype": "text/x-python",
   "name": "python",
   "nbconvert_exporter": "python",
   "pygments_lexer": "ipython3",
   "version": "3.11.9"
  }
 },
 "nbformat": 4,
 "nbformat_minor": 5
}
